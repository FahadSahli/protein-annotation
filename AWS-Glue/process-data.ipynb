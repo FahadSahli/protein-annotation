{
 "cells": [
  {
   "cell_type": "markdown",
   "metadata": {},
   "source": [
    "# Initialization"
   ]
  },
  {
   "cell_type": "code",
   "execution_count": 1,
   "metadata": {},
   "outputs": [
    {
     "name": "stdout",
     "output_type": "stream",
     "text": [
      "Starting Spark application\n"
     ]
    },
    {
     "data": {
      "text/html": [
       "<table>\n",
       "<tr><th>ID</th><th>YARN Application ID</th><th>Kind</th><th>State</th><th>Spark UI</th><th>Driver log</th><th>Current session?</th></tr><tr><td>3</td><td>application_1606413863529_0004</td><td>pyspark</td><td>idle</td><td><a target=\"_blank\" href=\"http://ip-10-1-0-38.ec2.internal:20888/proxy/application_1606413863529_0004/\">Link</a></td><td><a target=\"_blank\" href=\"http://ip-10-1-0-141.ec2.internal:8042/node/containerlogs/container_1606413863529_0004_01_000001/livy\">Link</a></td><td>✔</td></tr></table>"
      ],
      "text/plain": [
       "<IPython.core.display.HTML object>"
      ]
     },
     "metadata": {},
     "output_type": "display_data"
    },
    {
     "data": {
      "application/vnd.jupyter.widget-view+json": {
       "model_id": "",
       "version_major": 2,
       "version_minor": 0
      },
      "text/plain": [
       "FloatProgress(value=0.0, bar_style='info', description='Progress:', layout=Layout(height='25px', width='50%'),…"
      ]
     },
     "metadata": {},
     "output_type": "display_data"
    },
    {
     "name": "stdout",
     "output_type": "stream",
     "text": [
      "SparkSession available as 'spark'.\n"
     ]
    },
    {
     "data": {
      "application/vnd.jupyter.widget-view+json": {
       "model_id": "",
       "version_major": 2,
       "version_minor": 0
      },
      "text/plain": [
       "FloatProgress(value=0.0, bar_style='info', description='Progress:', layout=Layout(height='25px', width='50%'),…"
      ]
     },
     "metadata": {},
     "output_type": "display_data"
    }
   ],
   "source": [
    "import sys\n",
    "from awsglue.transforms import *\n",
    "from awsglue.utils import getResolvedOptions\n",
    "from pyspark.context import SparkContext\n",
    "from awsglue.context import GlueContext\n",
    "from awsglue.job import Job\n",
    "from pyspark.sql.functions import *\n",
    "from awsglue.dynamicframe import DynamicFrame"
   ]
  },
  {
   "cell_type": "code",
   "execution_count": 2,
   "metadata": {},
   "outputs": [
    {
     "data": {
      "application/vnd.jupyter.widget-view+json": {
       "model_id": "",
       "version_major": 2,
       "version_minor": 0
      },
      "text/plain": [
       "FloatProgress(value=0.0, bar_style='info', description='Progress:', layout=Layout(height='25px', width='50%'),…"
      ]
     },
     "metadata": {},
     "output_type": "display_data"
    }
   ],
   "source": [
    "# Set up a single GlueContext\n",
    "sc = SparkContext.getOrCreate()\n",
    "\n",
    "glueContext = GlueContext(sc)"
   ]
  },
  {
   "cell_type": "code",
   "execution_count": 3,
   "metadata": {},
   "outputs": [
    {
     "data": {
      "application/vnd.jupyter.widget-view+json": {
       "model_id": "",
       "version_major": 2,
       "version_minor": 0
      },
      "text/plain": [
       "FloatProgress(value=0.0, bar_style='info', description='Progress:', layout=Layout(height='25px', width='50%'),…"
      ]
     },
     "metadata": {},
     "output_type": "display_data"
    }
   ],
   "source": [
    "from pyspark.sql.types import StringType\n",
    "import boto3\n",
    "import csv\n",
    "import codecs\n",
    "\n",
    "client = boto3.client(\"s3\")"
   ]
  },
  {
   "cell_type": "markdown",
   "metadata": {},
   "source": [
    "# Processing Job"
   ]
  },
  {
   "cell_type": "code",
   "execution_count": 4,
   "metadata": {},
   "outputs": [
    {
     "data": {
      "application/vnd.jupyter.widget-view+json": {
       "model_id": "",
       "version_major": 2,
       "version_minor": 0
      },
      "text/plain": [
       "FloatProgress(value=0.0, bar_style='info', description='Progress:', layout=Layout(height='25px', width='50%'),…"
      ]
     },
     "metadata": {},
     "output_type": "display_data"
    }
   ],
   "source": [
    "# Initialize job\n",
    "job = Job(glueContext)\n",
    "job.init('job')"
   ]
  },
  {
   "cell_type": "code",
   "execution_count": null,
   "metadata": {},
   "outputs": [],
   "source": [
    "# Name of database\n",
    "database = \"\"\n",
    "\n",
    "# Subset of data (e.g., train, validation, or test)\n",
    "data_subset = \"train\""
   ]
  },
  {
   "cell_type": "code",
   "execution_count": null,
   "metadata": {},
   "outputs": [],
   "source": [
    "# Load data and convert it to datafram\n",
    "row_data = glueContext.create_dynamic_frame.from_catalog(database = database, table_name = data_subset)\n",
    "row_data_df = DynamicFrame.toDF(row_data)"
   ]
  },
  {
   "cell_type": "code",
   "execution_count": 5,
   "metadata": {},
   "outputs": [
    {
     "data": {
      "application/vnd.jupyter.widget-view+json": {
       "model_id": "",
       "version_major": 2,
       "version_minor": 0
      },
      "text/plain": [
       "FloatProgress(value=0.0, bar_style='info', description='Progress:', layout=Layout(height='25px', width='50%'),…"
      ]
     },
     "metadata": {},
     "output_type": "display_data"
    },
    {
     "name": "stdout",
     "output_type": "stream",
     "text": [
      "+------------+--------------------+----------------+--------------------+--------------------+\n",
      "|        col0|                col1|            col2|                col3|                col4|\n",
      "+------------+--------------------+----------------+--------------------+--------------------+\n",
      "|   family_id|       sequence_name|family_accession|    aligned_sequence|            sequence|\n",
      "| GMC_oxred_C|A4WZS5_RHOS5/416-539|      PF05199.13|PHPE.SRIRLST.RRDA...|PHPESRIRLSTRRDAHG...|\n",
      "|     DUF2887|  K9QI92_9NOSO/3-203|       PF11103.8|RDSIYYQIFKRFPALIF...|RDSIYYQIFKRFPALIF...|\n",
      "|     zf-IS66|  Q92LC9_RHIME/32-75|       PF13005.7|.TCCPDCGG.E..LRLV...|TCCPDCGGELRLVGEDA...|\n",
      "|Asp_decarbox|  X2GQZ4_9BACI/1-115|      PF02261.16|MLRMMMNSKIHRATVTE...|MLRMMMNSKIHRATVTE...|\n",
      "|     Filamin|A7SQM3_NEMVE/342-439|      PF00630.19|TACPKQ.CTA....RGL...|TACPKQCTARGLGLKAA...|\n",
      "|     DUF4131| Q6N5R7_RHOPA/70-226|       PF13567.6|DHEPVAWVAAATAAGFV...|DHEPVAWVAAATAAGFV...|\n",
      "|       GGACT|A0A086WQ80_9VIBR/...|      PF06094.12|LFVY...GTLRQG..ES...|LFVYGTLRQGESNHNFL...|\n",
      "|     DUF1054|  G2TLD7_BACCO/6-203|      PF06335.12|FTGQDFDVFRIEGLDQR...|FTGQDFDVFRIEGLDQR...|\n",
      "|  His_kinase|Q47E94_DECAR/372-450|      PF06580.13|SE.I..KLLHAQVNPHF...|SEIKLLHAQVNPHFLFN...|\n",
      "+------------+--------------------+----------------+--------------------+--------------------+\n",
      "only showing top 10 rows"
     ]
    }
   ],
   "source": [
    "row_data_df.show(10)"
   ]
  },
  {
   "cell_type": "markdown",
   "metadata": {},
   "source": [
    "## Read Files\n",
    "Reading frequency and class files."
   ]
  },
  {
   "cell_type": "code",
   "execution_count": null,
   "metadata": {},
   "outputs": [],
   "source": [
    "bucket = \"\""
   ]
  },
  {
   "cell_type": "code",
   "execution_count": 6,
   "metadata": {},
   "outputs": [
    {
     "data": {
      "application/vnd.jupyter.widget-view+json": {
       "model_id": "",
       "version_major": 2,
       "version_minor": 0
      },
      "text/plain": [
       "FloatProgress(value=0.0, bar_style='info', description='Progress:', layout=Layout(height='25px', width='50%'),…"
      ]
     },
     "metadata": {},
     "output_type": "display_data"
    }
   ],
   "source": [
    "data = client.get_object(Bucket=bucket, Key=\"freq_df.csv\")\n",
    "freq_dic = {}\n",
    "index = 0\n",
    "\n",
    "for row in csv.DictReader(codecs.getreader(\"utf-8\")(data[\"Body\"])):\n",
    "    freq_dic[row['feature']] = index\n",
    "    index += 1"
   ]
  },
  {
   "cell_type": "code",
   "execution_count": 7,
   "metadata": {},
   "outputs": [
    {
     "data": {
      "application/vnd.jupyter.widget-view+json": {
       "model_id": "",
       "version_major": 2,
       "version_minor": 0
      },
      "text/plain": [
       "FloatProgress(value=0.0, bar_style='info', description='Progress:', layout=Layout(height='25px', width='50%'),…"
      ]
     },
     "metadata": {},
     "output_type": "display_data"
    }
   ],
   "source": [
    "classes = client.get_object(Bucket=bucket, Key=\"dict_class.csv\")\n",
    "\n",
    "for dict_class in csv.DictReader(codecs.getreader(\"utf-8\")(classes[\"Body\"])):\n",
    "    pass"
   ]
  },
  {
   "cell_type": "markdown",
   "metadata": {},
   "source": [
    "## Methods"
   ]
  },
  {
   "cell_type": "code",
   "execution_count": 8,
   "metadata": {},
   "outputs": [
    {
     "data": {
      "application/vnd.jupyter.widget-view+json": {
       "model_id": "",
       "version_major": 2,
       "version_minor": 0
      },
      "text/plain": [
       "FloatProgress(value=0.0, bar_style='info', description='Progress:', layout=Layout(height='25px', width='50%'),…"
      ]
     },
     "metadata": {},
     "output_type": "display_data"
    }
   ],
   "source": [
    "def family_accession_to_id(family_accession):\n",
    "    \"\"\"\n",
    "    This method takes family accessions and returns their indices.\n",
    "    \"\"\"\n",
    "    return int(dict_class[family_accession])\n",
    "\n",
    "family_accession_to_id_f = udf(lambda x: family_accession_to_id(x), StringType())"
   ]
  },
  {
   "cell_type": "code",
   "execution_count": 9,
   "metadata": {},
   "outputs": [
    {
     "data": {
      "application/vnd.jupyter.widget-view+json": {
       "model_id": "",
       "version_major": 2,
       "version_minor": 0
      },
      "text/plain": [
       "FloatProgress(value=0.0, bar_style='info', description='Progress:', layout=Layout(height='25px', width='50%'),…"
      ]
     },
     "metadata": {},
     "output_type": "display_data"
    }
   ],
   "source": [
    "def sequence_to_ID(sequence):\n",
    "    \"\"\"\n",
    "    This method converts letters in a sequence to their IDs.\n",
    "    Inputes:\n",
    "        1. A sequence of letters.\n",
    "        \n",
    "    Outputs:\n",
    "        1. A list of IDs.\n",
    "    \"\"\"\n",
    "    return list(map(char_to_ID, list(sequence)))\n",
    "\n",
    "def char_to_ID(char):\n",
    "    \"\"\"\n",
    "    This method takes letters and returns their indices + 1.\n",
    "    \"\"\"\n",
    "    return freq_dic[char.lower()] + 1\n",
    "\n",
    "sequence_to_ID_f = udf(lambda x: sequence_to_ID(x), StringType())"
   ]
  },
  {
   "cell_type": "markdown",
   "metadata": {},
   "source": [
    "## Processing"
   ]
  },
  {
   "cell_type": "code",
   "execution_count": null,
   "metadata": {},
   "outputs": [],
   "source": [
    "# Extract family_accession and sequence columns and drop other columns\n",
    "extracted_df = row_data_df.drop('col0').drop('col1').drop('col3')\n",
    "\n",
    "# Extract headers and remove them\n",
    "family_accession_header, sequence_header = extracted_df.first()[0], extracted_df.first()[1]\n",
    "extracted_df = extracted_df.filter(~col(\"col2\").contains(family_accession_header))\n",
    "extracted_df = extracted_df.filter(~col(\"col4\").contains(sequence_header))"
   ]
  },
  {
   "cell_type": "code",
   "execution_count": 10,
   "metadata": {},
   "outputs": [
    {
     "data": {
      "application/vnd.jupyter.widget-view+json": {
       "model_id": "",
       "version_major": 2,
       "version_minor": 0
      },
      "text/plain": [
       "FloatProgress(value=0.0, bar_style='info', description='Progress:', layout=Layout(height='25px', width='50%'),…"
      ]
     },
     "metadata": {},
     "output_type": "display_data"
    },
    {
     "name": "stdout",
     "output_type": "stream",
     "text": [
      "+----------+--------------------+\n",
      "|      col2|                col4|\n",
      "+----------+--------------------+\n",
      "|PF05199.13|PHPESRIRLSTRRDAHG...|\n",
      "| PF11103.8|RDSIYYQIFKRFPALIF...|\n",
      "| PF13005.7|TCCPDCGGELRLVGEDA...|\n",
      "|PF02261.16|MLRMMMNSKIHRATVTE...|\n",
      "|PF00630.19|TACPKQCTARGLGLKAA...|\n",
      "| PF13567.6|DHEPVAWVAAATAAGFV...|\n",
      "|PF06094.12|LFVYGTLRQGESNHNFL...|\n",
      "|PF06335.12|FTGQDFDVFRIEGLDQR...|\n",
      "|PF06580.13|SEIKLLHAQVNPHFLFN...|\n",
      "|PF01379.20|LRIATRKSPLALWQAEY...|\n",
      "+----------+--------------------+\n",
      "only showing top 10 rows"
     ]
    }
   ],
   "source": [
    "extracted_df.show(10)"
   ]
  },
  {
   "cell_type": "markdown",
   "metadata": {},
   "source": [
    "### Family Accession"
   ]
  },
  {
   "cell_type": "code",
   "execution_count": 11,
   "metadata": {},
   "outputs": [
    {
     "data": {
      "application/vnd.jupyter.widget-view+json": {
       "model_id": "",
       "version_major": 2,
       "version_minor": 0
      },
      "text/plain": [
       "FloatProgress(value=0.0, bar_style='info', description='Progress:', layout=Layout(height='25px', width='50%'),…"
      ]
     },
     "metadata": {},
     "output_type": "display_data"
    },
    {
     "name": "stdout",
     "output_type": "stream",
     "text": [
      "+--------------------+----------------+\n",
      "|                col4|family_accession|\n",
      "+--------------------+----------------+\n",
      "|PHPESRIRLSTRRDAHG...|               0|\n",
      "|RDSIYYQIFKRFPALIF...|               1|\n",
      "|TCCPDCGGELRLVGEDA...|               2|\n",
      "|MLRMMMNSKIHRATVTE...|               3|\n",
      "|TACPKQCTARGLGLKAA...|               4|\n",
      "|DHEPVAWVAAATAAGFV...|               5|\n",
      "|LFVYGTLRQGESNHNFL...|               6|\n",
      "|FTGQDFDVFRIEGLDQR...|               7|\n",
      "|SEIKLLHAQVNPHFLFN...|               8|\n",
      "|LRIATRKSPLALWQAEY...|               9|\n",
      "+--------------------+----------------+\n",
      "only showing top 10 rows"
     ]
    }
   ],
   "source": [
    "extracted_df = extracted_df.withColumn(\"family_accession\", family_accession_to_id_f(extracted_df[\"col2\"])).drop(\"col2\")\n",
    "extracted_df.show(10)"
   ]
  },
  {
   "cell_type": "markdown",
   "metadata": {},
   "source": [
    "### Sequence"
   ]
  },
  {
   "cell_type": "code",
   "execution_count": 12,
   "metadata": {},
   "outputs": [
    {
     "data": {
      "application/vnd.jupyter.widget-view+json": {
       "model_id": "",
       "version_major": 2,
       "version_minor": 0
      },
      "text/plain": [
       "FloatProgress(value=0.0, bar_style='info', description='Progress:', layout=Layout(height='25px', width='50%'),…"
      ]
     },
     "metadata": {},
     "output_type": "display_data"
    },
    {
     "name": "stdout",
     "output_type": "stream",
     "text": [
      "+----------------+--------------------+\n",
      "|family_accession|            sequence|\n",
      "+----------------+--------------------+\n",
      "|               0|[12, 18, 12, 5, 6...|\n",
      "|               1|[8, 9, 6, 7, 16, ...|\n",
      "|               2|[11, 19, 19, 12, ...|\n",
      "|               3|[17, 1, 8, 17, 17...|\n",
      "|               4|[11, 2, 19, 12, 1...|\n",
      "|               5|[9, 18, 5, 12, 3,...|\n",
      "|               6|[1, 13, 3, 16, 4,...|\n",
      "|               7|[13, 11, 4, 15, 9...|\n",
      "|               8|[6, 5, 7, 10, 1, ...|\n",
      "|               9|[1, 8, 7, 2, 11, ...|\n",
      "+----------------+--------------------+\n",
      "only showing top 10 rows"
     ]
    }
   ],
   "source": [
    "extracted_df = extracted_df.withColumn(\"sequence\", sequence_to_ID_f(extracted_df[\"col4\"])).drop(\"col4\")\n",
    "extracted_df.show(10)"
   ]
  },
  {
   "cell_type": "markdown",
   "metadata": {},
   "source": [
    "### Save "
   ]
  },
  {
   "cell_type": "code",
   "execution_count": null,
   "metadata": {},
   "outputs": [],
   "source": [
    "# Bucket for processed data\n",
    "bucket_processed = \"\"\n",
    "s3_path = \"s3://\" + bucket_processed + \"/\" + data_subset"
   ]
  },
  {
   "cell_type": "code",
   "execution_count": 13,
   "metadata": {},
   "outputs": [
    {
     "data": {
      "application/vnd.jupyter.widget-view+json": {
       "model_id": "",
       "version_major": 2,
       "version_minor": 0
      },
      "text/plain": [
       "FloatProgress(value=0.0, bar_style='info', description='Progress:', layout=Layout(height='25px', width='50%'),…"
      ]
     },
     "metadata": {},
     "output_type": "display_data"
    }
   ],
   "source": [
    "extracted_df.write.format('csv').option('header',True).mode('overwrite').option('sep',',').save(s3_path)"
   ]
  },
  {
   "cell_type": "code",
   "execution_count": 14,
   "metadata": {},
   "outputs": [
    {
     "data": {
      "application/vnd.jupyter.widget-view+json": {
       "model_id": "",
       "version_major": 2,
       "version_minor": 0
      },
      "text/plain": [
       "FloatProgress(value=0.0, bar_style='info', description='Progress:', layout=Layout(height='25px', width='50%'),…"
      ]
     },
     "metadata": {},
     "output_type": "display_data"
    }
   ],
   "source": [
    "job.commit()"
   ]
  },
  {
   "cell_type": "markdown",
   "metadata": {},
   "source": [
    "\n"
   ]
  }
 ],
 "metadata": {
  "kernelspec": {
   "display_name": "Sparkmagic (PySpark)",
   "language": "",
   "name": "pysparkkernel"
  },
  "language_info": {
   "codemirror_mode": {
    "name": "python",
    "version": 3
   },
   "mimetype": "text/x-python",
   "name": "pyspark",
   "pygments_lexer": "python3"
  }
 },
 "nbformat": 4,
 "nbformat_minor": 2
}
