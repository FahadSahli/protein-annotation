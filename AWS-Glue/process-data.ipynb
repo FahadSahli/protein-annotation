{
 "cells": [
  {
   "cell_type": "markdown",
   "metadata": {},
   "source": [
    "# Initialization"
   ]
  },
  {
   "cell_type": "code",
   "execution_count": null,
   "metadata": {},
   "outputs": [],
   "source": [
    "import sys\n",
    "from awsglue.transforms import *\n",
    "from awsglue.utils import getResolvedOptions\n",
    "from pyspark.context import SparkContext\n",
    "from awsglue.context import GlueContext\n",
    "from awsglue.job import Job\n",
    "from pyspark.sql.functions import *\n",
    "from awsglue.dynamicframe import DynamicFrame"
   ]
  },
  {
   "cell_type": "code",
   "execution_count": 2,
   "metadata": {},
   "outputs": [
    {
     "data": {
      "application/vnd.jupyter.widget-view+json": {
       "model_id": "",
       "version_major": 2,
       "version_minor": 0
      },
      "text/plain": [
       "FloatProgress(value=0.0, bar_style='info', description='Progress:', layout=Layout(height='25px', width='50%'),…"
      ]
     },
     "metadata": {},
     "output_type": "display_data"
    }
   ],
   "source": [
    "# Set up a single GlueContext\n",
    "sc = SparkContext.getOrCreate()\n",
    "\n",
    "glueContext = GlueContext(sc)"
   ]
  },
  {
   "cell_type": "code",
   "execution_count": 3,
   "metadata": {},
   "outputs": [
    {
     "data": {
      "application/vnd.jupyter.widget-view+json": {
       "model_id": "",
       "version_major": 2,
       "version_minor": 0
      },
      "text/plain": [
       "FloatProgress(value=0.0, bar_style='info', description='Progress:', layout=Layout(height='25px', width='50%'),…"
      ]
     },
     "metadata": {},
     "output_type": "display_data"
    }
   ],
   "source": [
    "from pyspark.sql.types import StringType\n",
    "import boto3\n",
    "import csv\n",
    "import codecs\n",
    "\n",
    "client = boto3.client(\"s3\")"
   ]
  },
  {
   "cell_type": "markdown",
   "metadata": {},
   "source": [
    "# Processing Job"
   ]
  },
  {
   "cell_type": "code",
   "execution_count": 4,
   "metadata": {},
   "outputs": [
    {
     "data": {
      "application/vnd.jupyter.widget-view+json": {
       "model_id": "",
       "version_major": 2,
       "version_minor": 0
      },
      "text/plain": [
       "FloatProgress(value=0.0, bar_style='info', description='Progress:', layout=Layout(height='25px', width='50%'),…"
      ]
     },
     "metadata": {},
     "output_type": "display_data"
    }
   ],
   "source": [
    "# Initialize job\n",
    "job = Job(glueContext)\n",
    "job.init('job')"
   ]
  },
  {
   "cell_type": "code",
   "execution_count": 5,
   "metadata": {},
   "outputs": [
    {
     "data": {
      "application/vnd.jupyter.widget-view+json": {
       "model_id": "",
       "version_major": 2,
       "version_minor": 0
      },
      "text/plain": [
       "FloatProgress(value=0.0, bar_style='info', description='Progress:', layout=Layout(height='25px', width='50%'),…"
      ]
     },
     "metadata": {},
     "output_type": "display_data"
    }
   ],
   "source": [
    "# Name of database\n",
    "database = \"\"\n",
    "\n",
    "# Subset of data (e.g., train, validation, or test)\n",
    "data_subset = \"train\""
   ]
  },
  {
   "cell_type": "code",
   "execution_count": 6,
   "metadata": {},
   "outputs": [
    {
     "data": {
      "application/vnd.jupyter.widget-view+json": {
       "model_id": "",
       "version_major": 2,
       "version_minor": 0
      },
      "text/plain": [
       "FloatProgress(value=0.0, bar_style='info', description='Progress:', layout=Layout(height='25px', width='50%'),…"
      ]
     },
     "metadata": {},
     "output_type": "display_data"
    }
   ],
   "source": [
    "# Load data and convert it to datafram\n",
    "row_data = glueContext.create_dynamic_frame.from_catalog(database = database, table_name = data_subset)\n",
    "row_data_df = DynamicFrame.toDF(row_data)"
   ]
  },
  {
   "cell_type": "code",
   "execution_count": 7,
   "metadata": {},
   "outputs": [
    {
     "data": {
      "application/vnd.jupyter.widget-view+json": {
       "model_id": "",
       "version_major": 2,
       "version_minor": 0
      },
      "text/plain": [
       "FloatProgress(value=0.0, bar_style='info', description='Progress:', layout=Layout(height='25px', width='50%'),…"
      ]
     },
     "metadata": {},
     "output_type": "display_data"
    },
    {
     "name": "stdout",
     "output_type": "stream",
     "text": [
      "+--------------+--------------------+----------------+--------------------+--------------------+\n",
      "|          col0|                col1|            col2|                col3|                col4|\n",
      "+--------------+--------------------+----------------+--------------------+--------------------+\n",
      "|     family_id|       sequence_name|family_accession|    aligned_sequence|            sequence|\n",
      "|  zf-Tim10_DDP|  N1QB11_PSEFD/15-76|      PF02953.15|..RMEKKQMKDFMNMYS...|RMEKKQMKDFMNMYSNL...|\n",
      "| DNA_primase_S|A8XA78_CAEBR/105-345|      PF01896.19|FDID..LTDYDNIRNCC...|FDIDLTDYDNIRNCCKE...|\n",
      "| Col_cuticle_N|   A8XBM5_CAEBR/9-56|      PF01484.17|ASAAILSGATIVGCLFF...|ASAAILSGATIVGCLFF...|\n",
      "|       GST_C_3|W4XBU3_STRPU/120-207|       PF14497.6|KD..................|KDKLKESLPKTVNPILL...|\n",
      "|Ada_Zn_binding|   E8U5K2_DEIML/9-73|      PF02805.16|DRWQAVVQRE...AAQ....|DRWQAVVQREAAQDGLF...|\n",
      "|       Flg_new|M4RB64_9BIFI/796-861|      PF09479.10|YTLSFD.A...N..G.....|YTLSFDANGGSVSPGSK...|\n",
      "|       DUF4360| A8NVM1_COPC7/24-193|       PF14273.6|AELKLK.SVGAIGTGCP...|AELKLKSVGAIGTGCPP...|\n",
      "|       DUF1949|A0PZT9_CLONN/138-193|      PF09186.11|INIDYDLLGKVQYVCG....|INIDYDLLGKVQYVCGQ...|\n",
      "|  HSF_DNA-bind|I2GV49_TETBL/163-265|      PF00447.17|FVNKLWNM...L........|FVNKLWNMLNDPINQDM...|\n",
      "+--------------+--------------------+----------------+--------------------+--------------------+\n",
      "only showing top 10 rows"
     ]
    }
   ],
   "source": [
    "row_data_df.show(10)"
   ]
  },
  {
   "cell_type": "markdown",
   "metadata": {},
   "source": [
    "## Read Files\n",
    "Reading frequency and class files."
   ]
  },
  {
   "cell_type": "code",
   "execution_count": 8,
   "metadata": {},
   "outputs": [
    {
     "data": {
      "application/vnd.jupyter.widget-view+json": {
       "model_id": "",
       "version_major": 2,
       "version_minor": 0
      },
      "text/plain": [
       "FloatProgress(value=0.0, bar_style='info', description='Progress:', layout=Layout(height='25px', width='50%'),…"
      ]
     },
     "metadata": {},
     "output_type": "display_data"
    }
   ],
   "source": [
    "bucket = \"\""
   ]
  },
  {
   "cell_type": "code",
   "execution_count": 9,
   "metadata": {},
   "outputs": [
    {
     "data": {
      "application/vnd.jupyter.widget-view+json": {
       "model_id": "",
       "version_major": 2,
       "version_minor": 0
      },
      "text/plain": [
       "FloatProgress(value=0.0, bar_style='info', description='Progress:', layout=Layout(height='25px', width='50%'),…"
      ]
     },
     "metadata": {},
     "output_type": "display_data"
    }
   ],
   "source": [
    "data = client.get_object(Bucket=bucket, Key=\"freq_df.csv\")\n",
    "freq_dic = {}\n",
    "index = 0"
   ]
  },
  {
   "cell_type": "code",
   "execution_count": 10,
   "metadata": {},
   "outputs": [
    {
     "data": {
      "application/vnd.jupyter.widget-view+json": {
       "model_id": "",
       "version_major": 2,
       "version_minor": 0
      },
      "text/plain": [
       "FloatProgress(value=0.0, bar_style='info', description='Progress:', layout=Layout(height='25px', width='50%'),…"
      ]
     },
     "metadata": {},
     "output_type": "display_data"
    }
   ],
   "source": [
    "for row in csv.DictReader(codecs.getreader(\"utf-8\")(data[\"Body\"])):\n",
    "    freq_dic[row['feature']] = index\n",
    "    index += 1"
   ]
  },
  {
   "cell_type": "code",
   "execution_count": 11,
   "metadata": {},
   "outputs": [
    {
     "data": {
      "application/vnd.jupyter.widget-view+json": {
       "model_id": "",
       "version_major": 2,
       "version_minor": 0
      },
      "text/plain": [
       "FloatProgress(value=0.0, bar_style='info', description='Progress:', layout=Layout(height='25px', width='50%'),…"
      ]
     },
     "metadata": {},
     "output_type": "display_data"
    }
   ],
   "source": [
    "classes = client.get_object(Bucket=bucket, Key=\"dict_class.csv\")"
   ]
  },
  {
   "cell_type": "code",
   "execution_count": 12,
   "metadata": {},
   "outputs": [
    {
     "data": {
      "application/vnd.jupyter.widget-view+json": {
       "model_id": "",
       "version_major": 2,
       "version_minor": 0
      },
      "text/plain": [
       "FloatProgress(value=0.0, bar_style='info', description='Progress:', layout=Layout(height='25px', width='50%'),…"
      ]
     },
     "metadata": {},
     "output_type": "display_data"
    }
   ],
   "source": [
    "for dict_class in csv.DictReader(codecs.getreader(\"utf-8\")(classes[\"Body\"])):\n",
    "    pass"
   ]
  },
  {
   "cell_type": "markdown",
   "metadata": {},
   "source": [
    "## Methods"
   ]
  },
  {
   "cell_type": "code",
   "execution_count": 13,
   "metadata": {},
   "outputs": [
    {
     "data": {
      "application/vnd.jupyter.widget-view+json": {
       "model_id": "",
       "version_major": 2,
       "version_minor": 0
      },
      "text/plain": [
       "FloatProgress(value=0.0, bar_style='info', description='Progress:', layout=Layout(height='25px', width='50%'),…"
      ]
     },
     "metadata": {},
     "output_type": "display_data"
    }
   ],
   "source": [
    "def family_accession_to_id(family_accession):\n",
    "    \"\"\"\n",
    "    This method takes family accessions and returns their indices.\n",
    "    \"\"\"\n",
    "    return int(dict_class[family_accession])\n",
    "\n",
    "family_accession_to_id_f = udf(lambda x: family_accession_to_id(x), StringType())"
   ]
  },
  {
   "cell_type": "code",
   "execution_count": 14,
   "metadata": {},
   "outputs": [
    {
     "data": {
      "application/vnd.jupyter.widget-view+json": {
       "model_id": "",
       "version_major": 2,
       "version_minor": 0
      },
      "text/plain": [
       "FloatProgress(value=0.0, bar_style='info', description='Progress:', layout=Layout(height='25px', width='50%'),…"
      ]
     },
     "metadata": {},
     "output_type": "display_data"
    }
   ],
   "source": [
    "def sequence_to_ID(sequence):\n",
    "    \"\"\"\n",
    "    This method converts letters in a sequence to their IDs.\n",
    "    Inputes:\n",
    "        1. A sequence of letters.\n",
    "        \n",
    "    Outputs:\n",
    "        1. A list of IDs.\n",
    "    \"\"\"\n",
    "    return list(map(char_to_ID, list(sequence)))\n",
    "\n",
    "def char_to_ID(char):\n",
    "    \"\"\"\n",
    "    This method takes letters and returns their indices + 1.\n",
    "    \"\"\"\n",
    "    return freq_dic[char.lower()] + 1\n",
    "\n",
    "sequence_to_ID_f = udf(lambda x: sequence_to_ID(x), StringType())"
   ]
  },
  {
   "cell_type": "markdown",
   "metadata": {},
   "source": [
    "## Processing"
   ]
  },
  {
   "cell_type": "code",
   "execution_count": 15,
   "metadata": {},
   "outputs": [
    {
     "data": {
      "application/vnd.jupyter.widget-view+json": {
       "model_id": "",
       "version_major": 2,
       "version_minor": 0
      },
      "text/plain": [
       "FloatProgress(value=0.0, bar_style='info', description='Progress:', layout=Layout(height='25px', width='50%'),…"
      ]
     },
     "metadata": {},
     "output_type": "display_data"
    }
   ],
   "source": [
    "# Extract family_accession and sequence columns and drop other columns\n",
    "extracted_df = row_data_df.drop('col0').drop('col1').drop('col3')\n",
    "\n",
    "# Extract headers and remove them\n",
    "family_accession_header, sequence_header = extracted_df.first()[0], extracted_df.first()[1]\n",
    "extracted_df = extracted_df.filter(~col(\"col2\").contains(family_accession_header))\n",
    "extracted_df = extracted_df.filter(~col(\"col4\").contains(sequence_header))"
   ]
  },
  {
   "cell_type": "code",
   "execution_count": 16,
   "metadata": {},
   "outputs": [
    {
     "data": {
      "application/vnd.jupyter.widget-view+json": {
       "model_id": "",
       "version_major": 2,
       "version_minor": 0
      },
      "text/plain": [
       "FloatProgress(value=0.0, bar_style='info', description='Progress:', layout=Layout(height='25px', width='50%'),…"
      ]
     },
     "metadata": {},
     "output_type": "display_data"
    },
    {
     "name": "stdout",
     "output_type": "stream",
     "text": [
      "+----------+--------------------+\n",
      "|      col2|                col4|\n",
      "+----------+--------------------+\n",
      "|PF02953.15|RMEKKQMKDFMNMYSNL...|\n",
      "|PF01896.19|FDIDLTDYDNIRNCCKE...|\n",
      "|PF01484.17|ASAAILSGATIVGCLFF...|\n",
      "| PF14497.6|KDKLKESLPKTVNPILL...|\n",
      "|PF02805.16|DRWQAVVQREAAQDGLF...|\n",
      "|PF09479.10|YTLSFDANGGSVSPGSK...|\n",
      "| PF14273.6|AELKLKSVGAIGTGCPP...|\n",
      "|PF09186.11|INIDYDLLGKVQYVCGQ...|\n",
      "|PF00447.17|FVNKLWNMLNDPINQDM...|\n",
      "| PF12704.7|TFLTMLGIIIGTASVVC...|\n",
      "+----------+--------------------+\n",
      "only showing top 10 rows"
     ]
    }
   ],
   "source": [
    "extracted_df.show(10)"
   ]
  },
  {
   "cell_type": "markdown",
   "metadata": {},
   "source": [
    "### Family Accession"
   ]
  },
  {
   "cell_type": "code",
   "execution_count": 17,
   "metadata": {},
   "outputs": [
    {
     "data": {
      "application/vnd.jupyter.widget-view+json": {
       "model_id": "",
       "version_major": 2,
       "version_minor": 0
      },
      "text/plain": [
       "FloatProgress(value=0.0, bar_style='info', description='Progress:', layout=Layout(height='25px', width='50%'),…"
      ]
     },
     "metadata": {},
     "output_type": "display_data"
    },
    {
     "name": "stdout",
     "output_type": "stream",
     "text": [
      "+--------------------+----------------+\n",
      "|                col4|family_accession|\n",
      "+--------------------+----------------+\n",
      "|RMEKKQMKDFMNMYSNL...|             645|\n",
      "|FDIDLTDYDNIRNCCKE...|            9741|\n",
      "|ASAAILSGATIVGCLFF...|              10|\n",
      "|KDKLKESLPKTVNPILL...|            1859|\n",
      "|DRWQAVVQREAAQDGLF...|            1241|\n",
      "|YTLSFDANGGSVSPGSK...|            4035|\n",
      "|AELKLKSVGAIGTGCPP...|            4239|\n",
      "|INIDYDLLGKVQYVCGQ...|            5219|\n",
      "|FVNKLWNMLNDPINQDM...|             181|\n",
      "|TFLTMLGIIIGTASVVC...|            1380|\n",
      "+--------------------+----------------+\n",
      "only showing top 10 rows"
     ]
    }
   ],
   "source": [
    "extracted_df = extracted_df.withColumn(\"family_accession\", family_accession_to_id_f(extracted_df[\"col2\"])).drop(\"col2\")\n",
    "extracted_df.show(10)"
   ]
  },
  {
   "cell_type": "markdown",
   "metadata": {},
   "source": [
    "### Sequence"
   ]
  },
  {
   "cell_type": "code",
   "execution_count": 18,
   "metadata": {},
   "outputs": [
    {
     "data": {
      "application/vnd.jupyter.widget-view+json": {
       "model_id": "",
       "version_major": 2,
       "version_minor": 0
      },
      "text/plain": [
       "FloatProgress(value=0.0, bar_style='info', description='Progress:', layout=Layout(height='25px', width='50%'),…"
      ]
     },
     "metadata": {},
     "output_type": "display_data"
    },
    {
     "name": "stdout",
     "output_type": "stream",
     "text": [
      "+----------------+--------------------+\n",
      "|family_accession|            sequence|\n",
      "+----------------+--------------------+\n",
      "|             645|[8, 17, 5, 10, 10...|\n",
      "|            9741|[13, 9, 7, 9, 1, ...|\n",
      "|              10|[2, 6, 2, 2, 7, 1...|\n",
      "|            1859|[10, 9, 10, 1, 10...|\n",
      "|            1241|[9, 8, 20, 15, 2,...|\n",
      "|            4035|[16, 11, 1, 6, 13...|\n",
      "|            4239|[2, 5, 1, 10, 1, ...|\n",
      "|            5219|[7, 14, 7, 9, 16,...|\n",
      "|             181|[13, 3, 14, 10, 1...|\n",
      "|            1380|[11, 13, 1, 11, 1...|\n",
      "+----------------+--------------------+\n",
      "only showing top 10 rows"
     ]
    }
   ],
   "source": [
    "extracted_df = extracted_df.withColumn(\"sequence\", sequence_to_ID_f(extracted_df[\"col4\"])).drop(\"col4\")\n",
    "extracted_df.show(10)"
   ]
  },
  {
   "cell_type": "markdown",
   "metadata": {},
   "source": [
    "### Save "
   ]
  },
  {
   "cell_type": "code",
   "execution_count": 19,
   "metadata": {},
   "outputs": [
    {
     "data": {
      "application/vnd.jupyter.widget-view+json": {
       "model_id": "",
       "version_major": 2,
       "version_minor": 0
      },
      "text/plain": [
       "FloatProgress(value=0.0, bar_style='info', description='Progress:', layout=Layout(height='25px', width='50%'),…"
      ]
     },
     "metadata": {},
     "output_type": "display_data"
    }
   ],
   "source": [
    "# Bucket for processed data\n",
    "bucket_processed = \"\"\n",
    "s3_path = \"s3://\" + bucket_processed + \"/\" + data_subset"
   ]
  },
  {
   "cell_type": "code",
   "execution_count": 20,
   "metadata": {},
   "outputs": [
    {
     "data": {
      "application/vnd.jupyter.widget-view+json": {
       "model_id": "",
       "version_major": 2,
       "version_minor": 0
      },
      "text/plain": [
       "FloatProgress(value=0.0, bar_style='info', description='Progress:', layout=Layout(height='25px', width='50%'),…"
      ]
     },
     "metadata": {},
     "output_type": "display_data"
    }
   ],
   "source": [
    "extracted_df.write.format('csv').option('header',True).mode('overwrite').option('sep',',').save(s3_path)"
   ]
  },
  {
   "cell_type": "code",
   "execution_count": 21,
   "metadata": {},
   "outputs": [
    {
     "data": {
      "application/vnd.jupyter.widget-view+json": {
       "model_id": "",
       "version_major": 2,
       "version_minor": 0
      },
      "text/plain": [
       "FloatProgress(value=0.0, bar_style='info', description='Progress:', layout=Layout(height='25px', width='50%'),…"
      ]
     },
     "metadata": {},
     "output_type": "display_data"
    }
   ],
   "source": [
    "job.commit()"
   ]
  },
  {
   "cell_type": "markdown",
   "metadata": {},
   "source": [
    "\n"
   ]
  }
 ],
 "metadata": {
  "kernelspec": {
   "display_name": "Sparkmagic (PySpark)",
   "language": "",
   "name": "pysparkkernel"
  },
  "language_info": {
   "codemirror_mode": {
    "name": "python",
    "version": 3
   },
   "mimetype": "text/x-python",
   "name": "pyspark",
   "pygments_lexer": "python3"
  }
 },
 "nbformat": 4,
 "nbformat_minor": 2
}
